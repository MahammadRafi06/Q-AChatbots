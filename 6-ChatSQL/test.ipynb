{
 "cells": [
  {
   "cell_type": "code",
   "execution_count": 2,
   "metadata": {},
   "outputs": [
    {
     "data": {
      "text/plain": [
       "WindowsPath('c:/Users/mrafi/Documents/LangchainProjects/1-Q&AChatbots/6-ChatSQL/Mahammad.db')"
      ]
     },
     "execution_count": 2,
     "metadata": {},
     "output_type": "execute_result"
    }
   ],
   "source": [
    "from pathlib import Path\n",
    "db_filepath = (Path('.').parent/\"Mahammad.db\").absolute()\n",
    "db_filepath\n"
   ]
  },
  {
   "cell_type": "code",
   "execution_count": 3,
   "metadata": {},
   "outputs": [],
   "source": [
    "from sqlalchemy import create_engine\n",
    "from langchain.sql_database import SQLDatabase\n",
    "import sqlite3"
   ]
  },
  {
   "cell_type": "code",
   "execution_count": 4,
   "metadata": {},
   "outputs": [],
   "source": [
    "\n",
    "creator = lambda: sqlite3.connect(f\"file:{db_filepath}?mode=ro\", uri=True)\n",
    "#SQLDatabase(create_engine(\"sqlite://\", creator=creator))"
   ]
  },
  {
   "cell_type": "code",
   "execution_count": 5,
   "metadata": {},
   "outputs": [
    {
     "data": {
      "text/plain": [
       "<function __main__.<lambda>()>"
      ]
     },
     "execution_count": 5,
     "metadata": {},
     "output_type": "execute_result"
    }
   ],
   "source": [
    "creator"
   ]
  },
  {
   "cell_type": "code",
   "execution_count": 6,
   "metadata": {},
   "outputs": [],
   "source": [
    "db = SQLDatabase(create_engine(\"sqlite://\", creator=creator))"
   ]
  },
  {
   "cell_type": "code",
   "execution_count": 7,
   "metadata": {},
   "outputs": [
    {
     "data": {
      "text/plain": [
       "'\\nCREATE TABLE \"STUDENT\" (\\n\\t\"NAME\" VARCHAR(30), \\n\\t\"CLASS\" VARCHAR(20), \\n\\t\"SECTION\" VARCHAR(25), \\n\\t\"MARKS\" INTEGER\\n)\\n\\n/*\\n3 rows from STUDENT table:\\nNAME\\tCLASS\\tSECTION\\tMARKS\\nMahammad\\tData Science\\tA\\t90\\nShuaib\\tData Science\\tB\\t100\\nIdrees\\tDevOps\\tA\\t96\\n*/'"
      ]
     },
     "execution_count": 7,
     "metadata": {},
     "output_type": "execute_result"
    }
   ],
   "source": [
    "db.get_table_info()"
   ]
  },
  {
   "cell_type": "code",
   "execution_count": 1,
   "metadata": {},
   "outputs": [],
   "source": [
    "import sqlite3\n",
    "\n",
    "conn = sqlite3.connect('student.db')\n",
    "conn.execute('PRAGMA journal_mode=WAL;')\n",
    "conn.execute('PRAGMA journal_mode=DELETE;')\n",
    "conn.close()\n"
   ]
  },
  {
   "cell_type": "code",
   "execution_count": null,
   "metadata": {},
   "outputs": [],
   "source": [
    "import psutil\n",
    "\n",
    "for proc in psutil.process_iter():\n",
    "    try:\n",
    "        for conns in proc.connections(kind='inet'):\n",
    "            if 'your_database.db' in conns.laddr:\n",
    "                proc.kill()  # Kills the process holding the connection\n",
    "    except psutil.AccessDenied:\n",
    "        continue\n"
   ]
  }
 ],
 "metadata": {
  "kernelspec": {
   "display_name": "Python 3",
   "language": "python",
   "name": "python3"
  },
  "language_info": {
   "codemirror_mode": {
    "name": "ipython",
    "version": 3
   },
   "file_extension": ".py",
   "mimetype": "text/x-python",
   "name": "python",
   "nbconvert_exporter": "python",
   "pygments_lexer": "ipython3",
   "version": "3.10.14"
  }
 },
 "nbformat": 4,
 "nbformat_minor": 2
}
